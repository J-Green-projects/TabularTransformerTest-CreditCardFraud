{
  "nbformat": 4,
  "nbformat_minor": 0,
  "metadata": {
    "colab": {
      "provenance": [],
      "authorship_tag": "ABX9TyMCFFOlSJ++E2QiewN62SXC"
    },
    "kernelspec": {
      "name": "python3",
      "display_name": "Python 3"
    },
    "language_info": {
      "name": "python"
    },
    "accelerator": "GPU",
    "gpuClass": "standard"
  },
  "cells": [
    {
      "cell_type": "markdown",
      "source": [
        "<h1> <centre/>Testing the Tabular Transformer Architecture</center> <h1>\n",
        "\n",
        "Jeremy Greenwood\n",
        "\n",
        "This notebook is an experiment testing the ability of tabular transformers (ref: https://arxiv.org/abs/2012.06678) vs. a traditional ANN structure on a well-documented and clean dataset (ref: https://www.kaggle.com/datasets/mlg-ulb/creditcardfraud). The objective is to determine which credit card transactions are fraudulent. \n",
        "</br></br>\n",
        "Declining a card (and locking someone out of their account until they can confirm a transaction isn't fraudulent is a serious cost, but it is far outweighed by the cost of allowing any fraud to go undetected. Because we only have individual fraudulent transactions, any fraud must be treated as though someone's life savings have been put at risk, regardless of the actual amount taken. Without any business data to determine the loss of income the company would suffer from any loss of business due to an overzealous fraud detection system compared to having to insure losses of an indeterminate amount, we will use the arbitrary acceptable ratio of 10 false positives for every false negative. "
      ],
      "metadata": {
        "id": "wIBx3TbCkuOp"
      }
    },
    {
      "cell_type": "code",
      "execution_count": null,
      "metadata": {
        "colab": {
          "base_uri": "https://localhost:8080/"
        },
        "id": "D3IYDLo_ailk",
        "outputId": "159ddc9b-5fac-4b84-8f37-fd66e978a496"
      },
      "outputs": [
        {
          "output_type": "stream",
          "name": "stdout",
          "text": [
            "Mounted at /content/gdrive/\n"
          ]
        }
      ],
      "source": [
        "#from google.colab import files # this method works but is way too slow\n",
        "#uploaded = files.upload()\n",
        "\n",
        "from google.colab import drive\n",
        "\n",
        "drive.mount('/content/gdrive/')"
      ]
    },
    {
      "cell_type": "code",
      "source": [
        "# data exploration and preprocessing\n",
        "import pandas as pd\n",
        "import numpy as np\n",
        "from matplotlib.pyplot import plot as plt\n",
        "from sklearn.model_selection import train_test_split\n",
        "from sklearn.pipeline import Pipeline\n",
        "from sklearn.metrics import f1_score, confusion_matrix, ConfusionMatrixDisplay\n",
        "\n",
        "# building our neural networks\n",
        "import tensorflow as tf\n",
        "from tensorflow import keras\n",
        "from tensorflow.keras import layers\n",
        "from keras.models import Sequential\n",
        "\n",
        "!pip install tabtransformertf\n",
        "\n",
        "from tabtransformertf.models.fttransformer  import FTTransformerEncoder, FTTransformer \n",
        "from tabtransformertf.utils.preprocessing import df_to_dataset"
      ],
      "metadata": {
        "id": "5jz9D1Rdavgj",
        "colab": {
          "base_uri": "https://localhost:8080/"
        },
        "outputId": "7b865a96-9067-4547-b993-64ff9b58715e"
      },
      "execution_count": null,
      "outputs": [
        {
          "output_type": "stream",
          "name": "stdout",
          "text": [
            "Looking in indexes: https://pypi.org/simple, https://us-python.pkg.dev/colab-wheels/public/simple/\n",
            "Collecting tabtransformertf\n",
            "  Downloading tabtransformertf-0.0.8-py3-none-any.whl (16 kB)\n",
            "Requirement already satisfied: numpy>=1.19.5 in /usr/local/lib/python3.9/dist-packages (from tabtransformertf) (1.22.4)\n",
            "Requirement already satisfied: tqdm>=4.64.0 in /usr/local/lib/python3.9/dist-packages (from tabtransformertf) (4.65.0)\n",
            "Requirement already satisfied: tensorflow>=2.6.2 in /usr/local/lib/python3.9/dist-packages (from tabtransformertf) (2.12.0)\n",
            "Requirement already satisfied: scikit-learn>=0.19.0 in /usr/local/lib/python3.9/dist-packages (from tabtransformertf) (1.2.2)\n",
            "Requirement already satisfied: pandas>=1.1.1 in /usr/local/lib/python3.9/dist-packages (from tabtransformertf) (1.4.4)\n",
            "Requirement already satisfied: python-dateutil>=2.8.1 in /usr/local/lib/python3.9/dist-packages (from pandas>=1.1.1->tabtransformertf) (2.8.2)\n",
            "Requirement already satisfied: pytz>=2020.1 in /usr/local/lib/python3.9/dist-packages (from pandas>=1.1.1->tabtransformertf) (2022.7.1)\n",
            "Requirement already satisfied: joblib>=1.1.1 in /usr/local/lib/python3.9/dist-packages (from scikit-learn>=0.19.0->tabtransformertf) (1.1.1)\n",
            "Requirement already satisfied: threadpoolctl>=2.0.0 in /usr/local/lib/python3.9/dist-packages (from scikit-learn>=0.19.0->tabtransformertf) (3.1.0)\n",
            "Requirement already satisfied: scipy>=1.3.2 in /usr/local/lib/python3.9/dist-packages (from scikit-learn>=0.19.0->tabtransformertf) (1.10.1)\n",
            "Requirement already satisfied: jax>=0.3.15 in /usr/local/lib/python3.9/dist-packages (from tensorflow>=2.6.2->tabtransformertf) (0.4.7)\n",
            "Requirement already satisfied: termcolor>=1.1.0 in /usr/local/lib/python3.9/dist-packages (from tensorflow>=2.6.2->tabtransformertf) (2.2.0)\n",
            "Requirement already satisfied: wrapt<1.15,>=1.11.0 in /usr/local/lib/python3.9/dist-packages (from tensorflow>=2.6.2->tabtransformertf) (1.14.1)\n",
            "Requirement already satisfied: h5py>=2.9.0 in /usr/local/lib/python3.9/dist-packages (from tensorflow>=2.6.2->tabtransformertf) (3.8.0)\n",
            "Requirement already satisfied: protobuf!=4.21.0,!=4.21.1,!=4.21.2,!=4.21.3,!=4.21.4,!=4.21.5,<5.0.0dev,>=3.20.3 in /usr/local/lib/python3.9/dist-packages (from tensorflow>=2.6.2->tabtransformertf) (3.20.3)\n",
            "Requirement already satisfied: tensorflow-estimator<2.13,>=2.12.0 in /usr/local/lib/python3.9/dist-packages (from tensorflow>=2.6.2->tabtransformertf) (2.12.0)\n",
            "Requirement already satisfied: tensorflow-io-gcs-filesystem>=0.23.1 in /usr/local/lib/python3.9/dist-packages (from tensorflow>=2.6.2->tabtransformertf) (0.32.0)\n",
            "Requirement already satisfied: google-pasta>=0.1.1 in /usr/local/lib/python3.9/dist-packages (from tensorflow>=2.6.2->tabtransformertf) (0.2.0)\n",
            "Requirement already satisfied: setuptools in /usr/local/lib/python3.9/dist-packages (from tensorflow>=2.6.2->tabtransformertf) (67.6.1)\n",
            "Requirement already satisfied: libclang>=13.0.0 in /usr/local/lib/python3.9/dist-packages (from tensorflow>=2.6.2->tabtransformertf) (16.0.0)\n",
            "Requirement already satisfied: opt-einsum>=2.3.2 in /usr/local/lib/python3.9/dist-packages (from tensorflow>=2.6.2->tabtransformertf) (3.3.0)\n",
            "Requirement already satisfied: six>=1.12.0 in /usr/local/lib/python3.9/dist-packages (from tensorflow>=2.6.2->tabtransformertf) (1.16.0)\n",
            "Requirement already satisfied: grpcio<2.0,>=1.24.3 in /usr/local/lib/python3.9/dist-packages (from tensorflow>=2.6.2->tabtransformertf) (1.53.0)\n",
            "Requirement already satisfied: tensorboard<2.13,>=2.12 in /usr/local/lib/python3.9/dist-packages (from tensorflow>=2.6.2->tabtransformertf) (2.12.1)\n",
            "Requirement already satisfied: packaging in /usr/local/lib/python3.9/dist-packages (from tensorflow>=2.6.2->tabtransformertf) (23.0)\n",
            "Requirement already satisfied: keras<2.13,>=2.12.0 in /usr/local/lib/python3.9/dist-packages (from tensorflow>=2.6.2->tabtransformertf) (2.12.0)\n",
            "Requirement already satisfied: astunparse>=1.6.0 in /usr/local/lib/python3.9/dist-packages (from tensorflow>=2.6.2->tabtransformertf) (1.6.3)\n",
            "Requirement already satisfied: gast<=0.4.0,>=0.2.1 in /usr/local/lib/python3.9/dist-packages (from tensorflow>=2.6.2->tabtransformertf) (0.4.0)\n",
            "Requirement already satisfied: absl-py>=1.0.0 in /usr/local/lib/python3.9/dist-packages (from tensorflow>=2.6.2->tabtransformertf) (1.4.0)\n",
            "Requirement already satisfied: flatbuffers>=2.0 in /usr/local/lib/python3.9/dist-packages (from tensorflow>=2.6.2->tabtransformertf) (23.3.3)\n",
            "Requirement already satisfied: typing-extensions>=3.6.6 in /usr/local/lib/python3.9/dist-packages (from tensorflow>=2.6.2->tabtransformertf) (4.5.0)\n",
            "Requirement already satisfied: wheel<1.0,>=0.23.0 in /usr/local/lib/python3.9/dist-packages (from astunparse>=1.6.0->tensorflow>=2.6.2->tabtransformertf) (0.40.0)\n",
            "Requirement already satisfied: ml-dtypes>=0.0.3 in /usr/local/lib/python3.9/dist-packages (from jax>=0.3.15->tensorflow>=2.6.2->tabtransformertf) (0.0.4)\n",
            "Requirement already satisfied: markdown>=2.6.8 in /usr/local/lib/python3.9/dist-packages (from tensorboard<2.13,>=2.12->tensorflow>=2.6.2->tabtransformertf) (3.4.3)\n",
            "Requirement already satisfied: google-auth-oauthlib<1.1,>=0.5 in /usr/local/lib/python3.9/dist-packages (from tensorboard<2.13,>=2.12->tensorflow>=2.6.2->tabtransformertf) (1.0.0)\n",
            "Requirement already satisfied: tensorboard-data-server<0.8.0,>=0.7.0 in /usr/local/lib/python3.9/dist-packages (from tensorboard<2.13,>=2.12->tensorflow>=2.6.2->tabtransformertf) (0.7.0)\n",
            "Requirement already satisfied: google-auth<3,>=1.6.3 in /usr/local/lib/python3.9/dist-packages (from tensorboard<2.13,>=2.12->tensorflow>=2.6.2->tabtransformertf) (2.17.1)\n",
            "Requirement already satisfied: tensorboard-plugin-wit>=1.6.0 in /usr/local/lib/python3.9/dist-packages (from tensorboard<2.13,>=2.12->tensorflow>=2.6.2->tabtransformertf) (1.8.1)\n",
            "Requirement already satisfied: werkzeug>=1.0.1 in /usr/local/lib/python3.9/dist-packages (from tensorboard<2.13,>=2.12->tensorflow>=2.6.2->tabtransformertf) (2.2.3)\n",
            "Requirement already satisfied: requests<3,>=2.21.0 in /usr/local/lib/python3.9/dist-packages (from tensorboard<2.13,>=2.12->tensorflow>=2.6.2->tabtransformertf) (2.27.1)\n",
            "Requirement already satisfied: pyasn1-modules>=0.2.1 in /usr/local/lib/python3.9/dist-packages (from google-auth<3,>=1.6.3->tensorboard<2.13,>=2.12->tensorflow>=2.6.2->tabtransformertf) (0.2.8)\n",
            "Requirement already satisfied: cachetools<6.0,>=2.0.0 in /usr/local/lib/python3.9/dist-packages (from google-auth<3,>=1.6.3->tensorboard<2.13,>=2.12->tensorflow>=2.6.2->tabtransformertf) (5.3.0)\n",
            "Requirement already satisfied: rsa<5,>=3.1.4 in /usr/local/lib/python3.9/dist-packages (from google-auth<3,>=1.6.3->tensorboard<2.13,>=2.12->tensorflow>=2.6.2->tabtransformertf) (4.9)\n",
            "Requirement already satisfied: requests-oauthlib>=0.7.0 in /usr/local/lib/python3.9/dist-packages (from google-auth-oauthlib<1.1,>=0.5->tensorboard<2.13,>=2.12->tensorflow>=2.6.2->tabtransformertf) (1.3.1)\n",
            "Requirement already satisfied: importlib-metadata>=4.4 in /usr/local/lib/python3.9/dist-packages (from markdown>=2.6.8->tensorboard<2.13,>=2.12->tensorflow>=2.6.2->tabtransformertf) (6.1.0)\n",
            "Requirement already satisfied: certifi>=2017.4.17 in /usr/local/lib/python3.9/dist-packages (from requests<3,>=2.21.0->tensorboard<2.13,>=2.12->tensorflow>=2.6.2->tabtransformertf) (2022.12.7)\n",
            "Requirement already satisfied: charset-normalizer~=2.0.0 in /usr/local/lib/python3.9/dist-packages (from requests<3,>=2.21.0->tensorboard<2.13,>=2.12->tensorflow>=2.6.2->tabtransformertf) (2.0.12)\n",
            "Requirement already satisfied: urllib3<1.27,>=1.21.1 in /usr/local/lib/python3.9/dist-packages (from requests<3,>=2.21.0->tensorboard<2.13,>=2.12->tensorflow>=2.6.2->tabtransformertf) (1.26.15)\n",
            "Requirement already satisfied: idna<4,>=2.5 in /usr/local/lib/python3.9/dist-packages (from requests<3,>=2.21.0->tensorboard<2.13,>=2.12->tensorflow>=2.6.2->tabtransformertf) (3.4)\n",
            "Requirement already satisfied: MarkupSafe>=2.1.1 in /usr/local/lib/python3.9/dist-packages (from werkzeug>=1.0.1->tensorboard<2.13,>=2.12->tensorflow>=2.6.2->tabtransformertf) (2.1.2)\n",
            "Requirement already satisfied: zipp>=0.5 in /usr/local/lib/python3.9/dist-packages (from importlib-metadata>=4.4->markdown>=2.6.8->tensorboard<2.13,>=2.12->tensorflow>=2.6.2->tabtransformertf) (3.15.0)\n",
            "Requirement already satisfied: pyasn1<0.5.0,>=0.4.6 in /usr/local/lib/python3.9/dist-packages (from pyasn1-modules>=0.2.1->google-auth<3,>=1.6.3->tensorboard<2.13,>=2.12->tensorflow>=2.6.2->tabtransformertf) (0.4.8)\n",
            "Requirement already satisfied: oauthlib>=3.0.0 in /usr/local/lib/python3.9/dist-packages (from requests-oauthlib>=0.7.0->google-auth-oauthlib<1.1,>=0.5->tensorboard<2.13,>=2.12->tensorflow>=2.6.2->tabtransformertf) (3.2.2)\n",
            "Installing collected packages: tabtransformertf\n",
            "Successfully installed tabtransformertf-0.0.8\n"
          ]
        }
      ]
    },
    {
      "cell_type": "code",
      "source": [
        "df=pd.read_csv('gdrive/My Drive/Colab Notebooks/creditcard.csv')"
      ],
      "metadata": {
        "id": "J2g6MEXXdlYY"
      },
      "execution_count": null,
      "outputs": []
    },
    {
      "cell_type": "code",
      "source": [
        "df.head()"
      ],
      "metadata": {
        "colab": {
          "base_uri": "https://localhost:8080/",
          "height": 235
        },
        "id": "NUYvDwnEdwBm",
        "outputId": "58d1abf9-61e6-47b1-9696-32ce06c590ec"
      },
      "execution_count": null,
      "outputs": [
        {
          "output_type": "execute_result",
          "data": {
            "text/plain": [
              "   Time        V1        V2        V3        V4        V5        V6        V7  \\\n",
              "0   0.0 -1.359807 -0.072781  2.536347  1.378155 -0.338321  0.462388  0.239599   \n",
              "1   0.0  1.191857  0.266151  0.166480  0.448154  0.060018 -0.082361 -0.078803   \n",
              "2   1.0 -1.358354 -1.340163  1.773209  0.379780 -0.503198  1.800499  0.791461   \n",
              "3   1.0 -0.966272 -0.185226  1.792993 -0.863291 -0.010309  1.247203  0.237609   \n",
              "4   2.0 -1.158233  0.877737  1.548718  0.403034 -0.407193  0.095921  0.592941   \n",
              "\n",
              "         V8        V9  ...       V21       V22       V23       V24       V25  \\\n",
              "0  0.098698  0.363787  ... -0.018307  0.277838 -0.110474  0.066928  0.128539   \n",
              "1  0.085102 -0.255425  ... -0.225775 -0.638672  0.101288 -0.339846  0.167170   \n",
              "2  0.247676 -1.514654  ...  0.247998  0.771679  0.909412 -0.689281 -0.327642   \n",
              "3  0.377436 -1.387024  ... -0.108300  0.005274 -0.190321 -1.175575  0.647376   \n",
              "4 -0.270533  0.817739  ... -0.009431  0.798278 -0.137458  0.141267 -0.206010   \n",
              "\n",
              "        V26       V27       V28  Amount  Class  \n",
              "0 -0.189115  0.133558 -0.021053  149.62      0  \n",
              "1  0.125895 -0.008983  0.014724    2.69      0  \n",
              "2 -0.139097 -0.055353 -0.059752  378.66      0  \n",
              "3 -0.221929  0.062723  0.061458  123.50      0  \n",
              "4  0.502292  0.219422  0.215153   69.99      0  \n",
              "\n",
              "[5 rows x 31 columns]"
            ],
            "text/html": [
              "\n",
              "  <div id=\"df-f5949433-1177-4b17-a73f-7f373293a0fb\">\n",
              "    <div class=\"colab-df-container\">\n",
              "      <div>\n",
              "<style scoped>\n",
              "    .dataframe tbody tr th:only-of-type {\n",
              "        vertical-align: middle;\n",
              "    }\n",
              "\n",
              "    .dataframe tbody tr th {\n",
              "        vertical-align: top;\n",
              "    }\n",
              "\n",
              "    .dataframe thead th {\n",
              "        text-align: right;\n",
              "    }\n",
              "</style>\n",
              "<table border=\"1\" class=\"dataframe\">\n",
              "  <thead>\n",
              "    <tr style=\"text-align: right;\">\n",
              "      <th></th>\n",
              "      <th>Time</th>\n",
              "      <th>V1</th>\n",
              "      <th>V2</th>\n",
              "      <th>V3</th>\n",
              "      <th>V4</th>\n",
              "      <th>V5</th>\n",
              "      <th>V6</th>\n",
              "      <th>V7</th>\n",
              "      <th>V8</th>\n",
              "      <th>V9</th>\n",
              "      <th>...</th>\n",
              "      <th>V21</th>\n",
              "      <th>V22</th>\n",
              "      <th>V23</th>\n",
              "      <th>V24</th>\n",
              "      <th>V25</th>\n",
              "      <th>V26</th>\n",
              "      <th>V27</th>\n",
              "      <th>V28</th>\n",
              "      <th>Amount</th>\n",
              "      <th>Class</th>\n",
              "    </tr>\n",
              "  </thead>\n",
              "  <tbody>\n",
              "    <tr>\n",
              "      <th>0</th>\n",
              "      <td>0.0</td>\n",
              "      <td>-1.359807</td>\n",
              "      <td>-0.072781</td>\n",
              "      <td>2.536347</td>\n",
              "      <td>1.378155</td>\n",
              "      <td>-0.338321</td>\n",
              "      <td>0.462388</td>\n",
              "      <td>0.239599</td>\n",
              "      <td>0.098698</td>\n",
              "      <td>0.363787</td>\n",
              "      <td>...</td>\n",
              "      <td>-0.018307</td>\n",
              "      <td>0.277838</td>\n",
              "      <td>-0.110474</td>\n",
              "      <td>0.066928</td>\n",
              "      <td>0.128539</td>\n",
              "      <td>-0.189115</td>\n",
              "      <td>0.133558</td>\n",
              "      <td>-0.021053</td>\n",
              "      <td>149.62</td>\n",
              "      <td>0</td>\n",
              "    </tr>\n",
              "    <tr>\n",
              "      <th>1</th>\n",
              "      <td>0.0</td>\n",
              "      <td>1.191857</td>\n",
              "      <td>0.266151</td>\n",
              "      <td>0.166480</td>\n",
              "      <td>0.448154</td>\n",
              "      <td>0.060018</td>\n",
              "      <td>-0.082361</td>\n",
              "      <td>-0.078803</td>\n",
              "      <td>0.085102</td>\n",
              "      <td>-0.255425</td>\n",
              "      <td>...</td>\n",
              "      <td>-0.225775</td>\n",
              "      <td>-0.638672</td>\n",
              "      <td>0.101288</td>\n",
              "      <td>-0.339846</td>\n",
              "      <td>0.167170</td>\n",
              "      <td>0.125895</td>\n",
              "      <td>-0.008983</td>\n",
              "      <td>0.014724</td>\n",
              "      <td>2.69</td>\n",
              "      <td>0</td>\n",
              "    </tr>\n",
              "    <tr>\n",
              "      <th>2</th>\n",
              "      <td>1.0</td>\n",
              "      <td>-1.358354</td>\n",
              "      <td>-1.340163</td>\n",
              "      <td>1.773209</td>\n",
              "      <td>0.379780</td>\n",
              "      <td>-0.503198</td>\n",
              "      <td>1.800499</td>\n",
              "      <td>0.791461</td>\n",
              "      <td>0.247676</td>\n",
              "      <td>-1.514654</td>\n",
              "      <td>...</td>\n",
              "      <td>0.247998</td>\n",
              "      <td>0.771679</td>\n",
              "      <td>0.909412</td>\n",
              "      <td>-0.689281</td>\n",
              "      <td>-0.327642</td>\n",
              "      <td>-0.139097</td>\n",
              "      <td>-0.055353</td>\n",
              "      <td>-0.059752</td>\n",
              "      <td>378.66</td>\n",
              "      <td>0</td>\n",
              "    </tr>\n",
              "    <tr>\n",
              "      <th>3</th>\n",
              "      <td>1.0</td>\n",
              "      <td>-0.966272</td>\n",
              "      <td>-0.185226</td>\n",
              "      <td>1.792993</td>\n",
              "      <td>-0.863291</td>\n",
              "      <td>-0.010309</td>\n",
              "      <td>1.247203</td>\n",
              "      <td>0.237609</td>\n",
              "      <td>0.377436</td>\n",
              "      <td>-1.387024</td>\n",
              "      <td>...</td>\n",
              "      <td>-0.108300</td>\n",
              "      <td>0.005274</td>\n",
              "      <td>-0.190321</td>\n",
              "      <td>-1.175575</td>\n",
              "      <td>0.647376</td>\n",
              "      <td>-0.221929</td>\n",
              "      <td>0.062723</td>\n",
              "      <td>0.061458</td>\n",
              "      <td>123.50</td>\n",
              "      <td>0</td>\n",
              "    </tr>\n",
              "    <tr>\n",
              "      <th>4</th>\n",
              "      <td>2.0</td>\n",
              "      <td>-1.158233</td>\n",
              "      <td>0.877737</td>\n",
              "      <td>1.548718</td>\n",
              "      <td>0.403034</td>\n",
              "      <td>-0.407193</td>\n",
              "      <td>0.095921</td>\n",
              "      <td>0.592941</td>\n",
              "      <td>-0.270533</td>\n",
              "      <td>0.817739</td>\n",
              "      <td>...</td>\n",
              "      <td>-0.009431</td>\n",
              "      <td>0.798278</td>\n",
              "      <td>-0.137458</td>\n",
              "      <td>0.141267</td>\n",
              "      <td>-0.206010</td>\n",
              "      <td>0.502292</td>\n",
              "      <td>0.219422</td>\n",
              "      <td>0.215153</td>\n",
              "      <td>69.99</td>\n",
              "      <td>0</td>\n",
              "    </tr>\n",
              "  </tbody>\n",
              "</table>\n",
              "<p>5 rows × 31 columns</p>\n",
              "</div>\n",
              "      <button class=\"colab-df-convert\" onclick=\"convertToInteractive('df-f5949433-1177-4b17-a73f-7f373293a0fb')\"\n",
              "              title=\"Convert this dataframe to an interactive table.\"\n",
              "              style=\"display:none;\">\n",
              "        \n",
              "  <svg xmlns=\"http://www.w3.org/2000/svg\" height=\"24px\"viewBox=\"0 0 24 24\"\n",
              "       width=\"24px\">\n",
              "    <path d=\"M0 0h24v24H0V0z\" fill=\"none\"/>\n",
              "    <path d=\"M18.56 5.44l.94 2.06.94-2.06 2.06-.94-2.06-.94-.94-2.06-.94 2.06-2.06.94zm-11 1L8.5 8.5l.94-2.06 2.06-.94-2.06-.94L8.5 2.5l-.94 2.06-2.06.94zm10 10l.94 2.06.94-2.06 2.06-.94-2.06-.94-.94-2.06-.94 2.06-2.06.94z\"/><path d=\"M17.41 7.96l-1.37-1.37c-.4-.4-.92-.59-1.43-.59-.52 0-1.04.2-1.43.59L10.3 9.45l-7.72 7.72c-.78.78-.78 2.05 0 2.83L4 21.41c.39.39.9.59 1.41.59.51 0 1.02-.2 1.41-.59l7.78-7.78 2.81-2.81c.8-.78.8-2.07 0-2.86zM5.41 20L4 18.59l7.72-7.72 1.47 1.35L5.41 20z\"/>\n",
              "  </svg>\n",
              "      </button>\n",
              "      \n",
              "  <style>\n",
              "    .colab-df-container {\n",
              "      display:flex;\n",
              "      flex-wrap:wrap;\n",
              "      gap: 12px;\n",
              "    }\n",
              "\n",
              "    .colab-df-convert {\n",
              "      background-color: #E8F0FE;\n",
              "      border: none;\n",
              "      border-radius: 50%;\n",
              "      cursor: pointer;\n",
              "      display: none;\n",
              "      fill: #1967D2;\n",
              "      height: 32px;\n",
              "      padding: 0 0 0 0;\n",
              "      width: 32px;\n",
              "    }\n",
              "\n",
              "    .colab-df-convert:hover {\n",
              "      background-color: #E2EBFA;\n",
              "      box-shadow: 0px 1px 2px rgba(60, 64, 67, 0.3), 0px 1px 3px 1px rgba(60, 64, 67, 0.15);\n",
              "      fill: #174EA6;\n",
              "    }\n",
              "\n",
              "    [theme=dark] .colab-df-convert {\n",
              "      background-color: #3B4455;\n",
              "      fill: #D2E3FC;\n",
              "    }\n",
              "\n",
              "    [theme=dark] .colab-df-convert:hover {\n",
              "      background-color: #434B5C;\n",
              "      box-shadow: 0px 1px 3px 1px rgba(0, 0, 0, 0.15);\n",
              "      filter: drop-shadow(0px 1px 2px rgba(0, 0, 0, 0.3));\n",
              "      fill: #FFFFFF;\n",
              "    }\n",
              "  </style>\n",
              "\n",
              "      <script>\n",
              "        const buttonEl =\n",
              "          document.querySelector('#df-f5949433-1177-4b17-a73f-7f373293a0fb button.colab-df-convert');\n",
              "        buttonEl.style.display =\n",
              "          google.colab.kernel.accessAllowed ? 'block' : 'none';\n",
              "\n",
              "        async function convertToInteractive(key) {\n",
              "          const element = document.querySelector('#df-f5949433-1177-4b17-a73f-7f373293a0fb');\n",
              "          const dataTable =\n",
              "            await google.colab.kernel.invokeFunction('convertToInteractive',\n",
              "                                                     [key], {});\n",
              "          if (!dataTable) return;\n",
              "\n",
              "          const docLinkHtml = 'Like what you see? Visit the ' +\n",
              "            '<a target=\"_blank\" href=https://colab.research.google.com/notebooks/data_table.ipynb>data table notebook</a>'\n",
              "            + ' to learn more about interactive tables.';\n",
              "          element.innerHTML = '';\n",
              "          dataTable['output_type'] = 'display_data';\n",
              "          await google.colab.output.renderOutput(dataTable, element);\n",
              "          const docLink = document.createElement('div');\n",
              "          docLink.innerHTML = docLinkHtml;\n",
              "          element.appendChild(docLink);\n",
              "        }\n",
              "      </script>\n",
              "    </div>\n",
              "  </div>\n",
              "  "
            ]
          },
          "metadata": {},
          "execution_count": 91
        }
      ]
    },
    {
      "cell_type": "code",
      "source": [
        "print(df.shape)"
      ],
      "metadata": {
        "colab": {
          "base_uri": "https://localhost:8080/"
        },
        "id": "thvw3spPgtlu",
        "outputId": "654d862d-312c-4d3d-aeb3-f06ee4958101"
      },
      "execution_count": null,
      "outputs": [
        {
          "output_type": "stream",
          "name": "stdout",
          "text": [
            "(284807, 31)\n"
          ]
        }
      ]
    },
    {
      "cell_type": "code",
      "source": [
        "print(df.isna().sum().sum())"
      ],
      "metadata": {
        "colab": {
          "base_uri": "https://localhost:8080/"
        },
        "id": "JZSToNE9h0H2",
        "outputId": "08439a65-1a39-4f0b-b474-3e9b7d4d7499"
      },
      "execution_count": null,
      "outputs": [
        {
          "output_type": "stream",
          "name": "stdout",
          "text": [
            "0\n"
          ]
        }
      ]
    },
    {
      "cell_type": "code",
      "source": [
        "print(\"- Range of values in each column -\")\n",
        "print(df.max() - df.min())"
      ],
      "metadata": {
        "colab": {
          "base_uri": "https://localhost:8080/"
        },
        "id": "6zBegnAmiVtx",
        "outputId": "fe215c24-d9d7-4320-9951-3a1684f04ee3"
      },
      "execution_count": null,
      "outputs": [
        {
          "output_type": "stream",
          "name": "stdout",
          "text": [
            "- Range of values in each column -\n",
            "Time      172792.000000\n",
            "V1            58.862440\n",
            "V2            94.773457\n",
            "V3            57.708148\n",
            "V4            22.558515\n",
            "V5           148.544973\n",
            "V6            99.462131\n",
            "V7           164.146736\n",
            "V8            93.223927\n",
            "V9            29.029061\n",
            "V10           48.333399\n",
            "V11           16.816387\n",
            "V12           26.532107\n",
            "V13           12.918764\n",
            "V14           29.741092\n",
            "V15           13.376686\n",
            "V16           31.444966\n",
            "V17           34.416326\n",
            "V18           14.539815\n",
            "V19           12.805499\n",
            "V20           93.918625\n",
            "V21           62.033221\n",
            "V22           21.436234\n",
            "V23           67.336147\n",
            "V24            7.421176\n",
            "V25           17.814986\n",
            "V26            6.121896\n",
            "V27           54.177877\n",
            "V28           49.277892\n",
            "Amount     25691.160000\n",
            "Class          1.000000\n",
            "dtype: float64\n"
          ]
        }
      ]
    },
    {
      "cell_type": "code",
      "source": [
        "print(\"- Median value of each column -\")\n",
        "print(df.median())"
      ],
      "metadata": {
        "colab": {
          "base_uri": "https://localhost:8080/"
        },
        "id": "W1HUCpORi31N",
        "outputId": "749409ec-eca9-4813-fc54-146d11157292"
      },
      "execution_count": null,
      "outputs": [
        {
          "output_type": "stream",
          "name": "stdout",
          "text": [
            "- Median value of each column -\n",
            "Time      84692.000000\n",
            "V1            0.018109\n",
            "V2            0.065486\n",
            "V3            0.179846\n",
            "V4           -0.019847\n",
            "V5           -0.054336\n",
            "V6           -0.274187\n",
            "V7            0.040103\n",
            "V8            0.022358\n",
            "V9           -0.051429\n",
            "V10          -0.092917\n",
            "V11          -0.032757\n",
            "V12           0.140033\n",
            "V13          -0.013568\n",
            "V14           0.050601\n",
            "V15           0.048072\n",
            "V16           0.066413\n",
            "V17          -0.065676\n",
            "V18          -0.003636\n",
            "V19           0.003735\n",
            "V20          -0.062481\n",
            "V21          -0.029450\n",
            "V22           0.006782\n",
            "V23          -0.011193\n",
            "V24           0.040976\n",
            "V25           0.016594\n",
            "V26          -0.052139\n",
            "V27           0.001342\n",
            "V28           0.011244\n",
            "Amount       22.000000\n",
            "Class         0.000000\n",
            "dtype: float64\n"
          ]
        }
      ]
    },
    {
      "cell_type": "code",
      "source": [
        "print(\"- Count of fraudulent transactions -\")\n",
        "print(sum(df['Class']==1))\n",
        "print(\"\\n- Percentage of fraudulent transactions -\")\n",
        "print(f\"{(sum(df['Class']==1)/df.size).round(6) * 100}%\")"
      ],
      "metadata": {
        "colab": {
          "base_uri": "https://localhost:8080/"
        },
        "id": "gTTo9aLhBmck",
        "outputId": "894e22af-70cc-4910-c221-a8c68a0093ac"
      },
      "execution_count": null,
      "outputs": [
        {
          "output_type": "stream",
          "name": "stdout",
          "text": [
            "- Count of fraudulent transactions -\n",
            "492\n",
            "\n",
            "- Percentage of fraudulent transactions -\n",
            "0.0056%\n"
          ]
        }
      ]
    },
    {
      "cell_type": "markdown",
      "source": [
        "A brief explanation of this dataset. Each row represents a transaction that may or may not be fraudulent (0 is 'clean', 1 is 'fraud'). The amount is just that - the amount. The time is the time between this transaction and the last one on record, in seconds. Note that there are transactions with '0 seconds', which is suspect. Since these represent 0.0007% of all transactions, it's probably safe to leave them in, assuming their time was a transcription error. Since we have no way to determine what the true value is, we'll just leave it untouched.\n",
        "<br><br>\n",
        "Amount is the final value we actually know, and this is just the raw dollar amount. V1-V28 are \"anomymized features that are the result of PCA dimensionality reduction\", so we have no way to determine causal relationships without trusting the source of this data. There are no NaN values, but the range of the features is substantial, so thus far cleaning is limited to normalization.\n",
        "<br><br>\n",
        "Overall we have a middling number of features to work with, and a moderately sizeable dataset. With this limited information, there is no apparent reason thus far that a neural network cannot work here.\n",
        "<br><br>\n",
        "The most serious problem with this dataset is the lack of fraudulent transactions. At half of a hundredth of a percent, we will need to engage in some kind of data augmentation before splitting the data up into batches, because batches of less than 579 guarantee at least one batch with 0 positive cases."
      ],
      "metadata": {
        "id": "ONlcTnqTfH8y"
      }
    },
    {
      "cell_type": "code",
      "source": [
        "from imblearn.over_sampling import SMOTE # We'll need this for SMOTE oversampling \n",
        "from imblearn.under_sampling import RandomUnderSampler # dealing with class imbalance will be incredibly tricky, so a two-pronged approach is needed\n",
        "from imblearn.pipeline import Pipeline as imbPipeline # in order to actually apply the above two functions in a pipeline, \n",
        "from tensorflow.keras.layers import Normalization # normalize data to deal with scale problem"
      ],
      "metadata": {
        "id": "4llRCfB2XpNF"
      },
      "execution_count": null,
      "outputs": []
    },
    {
      "cell_type": "code",
      "source": [
        "np.random.seed(42)"
      ],
      "metadata": {
        "id": "c-pp5WUEIE20"
      },
      "execution_count": null,
      "outputs": []
    },
    {
      "cell_type": "code",
      "source": [
        "# Our over/undersampling will need to be fairly extreme in relation to the data we have\n",
        "oversampler = SMOTE(sampling_strategy=0.2) \n",
        "undersampler = RandomUnderSampler(sampling_strategy=0.3)\n",
        "\n",
        "steps = [('oversample', oversampler), ('undersample', undersampler)] \n",
        "samplePipe = imbPipeline(steps=steps) # the complete sampler pipeline\n",
        "\n",
        "preprocessing = Normalization(axis=-1) # this is going to have to be a separate step, because this needs to be done to all of the data."
      ],
      "metadata": {
        "id": "W4hVf-nViV23"
      },
      "execution_count": null,
      "outputs": []
    },
    {
      "cell_type": "code",
      "source": [
        "X, y = df[df.columns.drop('Class')], df['Class']\n",
        "\n",
        "preprocessing.adapt(X) # normalize all X-values\n",
        "X = pd.DataFrame(preprocessing(X), columns=[df[df.columns.drop('Class')].columns.values])\n",
        "\n",
        "X_train, X_testValid, y_train, y_testValid = train_test_split(X, y, test_size=0.2) # X/y train, and the data to be turned into our validation/test data\n",
        "X_test, X_valid, y_test, y_valid = train_test_split(X_testValid, y_testValid, test_size=0.5) # X/y valid and test now split into their respective categories \n",
        "\n",
        "X_train, y_train = samplePipe.fit_resample(X_train, y_train) # finish by resampling only the training data"
      ],
      "metadata": {
        "id": "WEdFFdXrbYNx"
      },
      "execution_count": null,
      "outputs": []
    },
    {
      "cell_type": "markdown",
      "source": [
        "<h2/>The Control Model</h2>\n",
        "\n",
        "This is a simple FNN that has been tuned to a minimum standard of performance."
      ],
      "metadata": {
        "id": "oPcWe9q3AQOt"
      }
    },
    {
      "cell_type": "code",
      "source": [
        "controlModel = keras.models.Sequential([\n",
        "    tf.keras.layers.InputLayer(30),\n",
        "    tf.keras.layers.Dense(360, activation='relu'),\n",
        "    tf.keras.layers.Dense(720, activation='relu'),\n",
        "    tf.keras.layers.Dense(360, activation=\"relu\"),\n",
        "    tf.keras.layers.Dense(120, activation=\"relu\"),\n",
        "    tf.keras.layers.Dense(60, activation=\"relu\"),\n",
        "    tf.keras.layers.Dense(30, activation=\"relu\"),\n",
        "    tf.keras.layers.Dense(2, activation=\"sigmoid\")\n",
        "])\n",
        "\n",
        "controlModel.compile(optimizer=tf.keras.optimizers.Adam(learning_rate=0.02), loss=\"sparse_categorical_crossentropy\", metrics=['sparse_categorical_accuracy'])\n",
        "# sparse categorical cross entropy for an imbalanced binary classification\n",
        "# learning rate of 0.02 to ensure the model is good at jumping out of local minimums"
      ],
      "metadata": {
        "id": "Pk1PihcdiKgi"
      },
      "execution_count": null,
      "outputs": []
    },
    {
      "cell_type": "code",
      "source": [
        "controlHistory = controlModel.fit(X_train, y_train, epochs=15, batch_size=64000, validation_data=(X_valid, y_valid)) # large batch sizes to capture as many of the minority class as possible"
      ],
      "metadata": {
        "id": "_kQlCARgsemC",
        "colab": {
          "base_uri": "https://localhost:8080/"
        },
        "outputId": "4723f063-bf21-4002-9e04-c56cd126481d"
      },
      "execution_count": null,
      "outputs": [
        {
          "output_type": "stream",
          "name": "stdout",
          "text": [
            "Epoch 1/15\n",
            "4/4 [==============================] - 3s 152ms/step - loss: 21.1118 - sparse_categorical_accuracy: 0.4074 - val_loss: 0.5659 - val_sparse_categorical_accuracy: 0.9982\n",
            "Epoch 2/15\n",
            "4/4 [==============================] - 0s 62ms/step - loss: 0.5884 - sparse_categorical_accuracy: 0.7692 - val_loss: 0.1889 - val_sparse_categorical_accuracy: 0.9987\n",
            "Epoch 3/15\n",
            "4/4 [==============================] - 0s 66ms/step - loss: 0.2324 - sparse_categorical_accuracy: 0.9134 - val_loss: 0.0891 - val_sparse_categorical_accuracy: 0.9710\n",
            "Epoch 4/15\n",
            "4/4 [==============================] - 0s 64ms/step - loss: 0.1325 - sparse_categorical_accuracy: 0.9613 - val_loss: 0.0758 - val_sparse_categorical_accuracy: 0.9832\n",
            "Epoch 5/15\n",
            "4/4 [==============================] - 0s 63ms/step - loss: 0.1011 - sparse_categorical_accuracy: 0.9712 - val_loss: 0.0509 - val_sparse_categorical_accuracy: 0.9939\n",
            "Epoch 6/15\n",
            "4/4 [==============================] - 0s 64ms/step - loss: 0.0807 - sparse_categorical_accuracy: 0.9780 - val_loss: 0.0305 - val_sparse_categorical_accuracy: 0.9923\n",
            "Epoch 7/15\n",
            "4/4 [==============================] - 0s 70ms/step - loss: 0.0588 - sparse_categorical_accuracy: 0.9826 - val_loss: 0.0189 - val_sparse_categorical_accuracy: 0.9958\n",
            "Epoch 8/15\n",
            "4/4 [==============================] - 0s 64ms/step - loss: 0.0425 - sparse_categorical_accuracy: 0.9869 - val_loss: 0.0282 - val_sparse_categorical_accuracy: 0.9907\n",
            "Epoch 9/15\n",
            "4/4 [==============================] - 0s 65ms/step - loss: 0.0323 - sparse_categorical_accuracy: 0.9897 - val_loss: 0.0187 - val_sparse_categorical_accuracy: 0.9938\n",
            "Epoch 10/15\n",
            "4/4 [==============================] - 0s 64ms/step - loss: 0.0239 - sparse_categorical_accuracy: 0.9920 - val_loss: 0.0138 - val_sparse_categorical_accuracy: 0.9961\n",
            "Epoch 11/15\n",
            "4/4 [==============================] - 0s 64ms/step - loss: 0.0169 - sparse_categorical_accuracy: 0.9944 - val_loss: 0.0113 - val_sparse_categorical_accuracy: 0.9972\n",
            "Epoch 12/15\n",
            "4/4 [==============================] - 0s 63ms/step - loss: 0.0122 - sparse_categorical_accuracy: 0.9968 - val_loss: 0.0112 - val_sparse_categorical_accuracy: 0.9975\n",
            "Epoch 13/15\n",
            "4/4 [==============================] - 0s 65ms/step - loss: 0.0091 - sparse_categorical_accuracy: 0.9977 - val_loss: 0.0118 - val_sparse_categorical_accuracy: 0.9975\n",
            "Epoch 14/15\n",
            "4/4 [==============================] - 0s 64ms/step - loss: 0.0067 - sparse_categorical_accuracy: 0.9985 - val_loss: 0.0114 - val_sparse_categorical_accuracy: 0.9979\n",
            "Epoch 15/15\n",
            "4/4 [==============================] - 0s 62ms/step - loss: 0.0054 - sparse_categorical_accuracy: 0.9989 - val_loss: 0.0103 - val_sparse_categorical_accuracy: 0.9986\n"
          ]
        }
      ]
    },
    {
      "cell_type": "code",
      "source": [
        "pd.DataFrame(controlHistory.history)[['loss','val_loss']].plot(figsize=(8,5))"
      ],
      "metadata": {
        "colab": {
          "base_uri": "https://localhost:8080/",
          "height": 462
        },
        "id": "ba8poPAZhuOW",
        "outputId": "398c93bc-865c-4cad-a8f7-20f0ae6b6777"
      },
      "execution_count": null,
      "outputs": [
        {
          "output_type": "execute_result",
          "data": {
            "text/plain": [
              "<Axes: >"
            ]
          },
          "metadata": {},
          "execution_count": 103
        },
        {
          "output_type": "display_data",
          "data": {
            "text/plain": [
              "<Figure size 800x500 with 1 Axes>"
            ],
            "image/png": "[encoded data removed]"
          },
          "metadata": {}
        }
      ]
    },
    {
      "cell_type": "code",
      "source": [
        "controlModel.evaluate(X_test, y_test)"
      ],
      "metadata": {
        "colab": {
          "base_uri": "https://localhost:8080/"
        },
        "id": "cr1nS6kNk6Cr",
        "outputId": "683c8226-c728-4221-e42a-7452c6ec7a4e"
      },
      "execution_count": null,
      "outputs": [
        {
          "output_type": "stream",
          "name": "stdout",
          "text": [
            "891/891 [==============================] - 3s 3ms/step - loss: 0.0101 - sparse_categorical_accuracy: 0.9985\n"
          ]
        },
        {
          "output_type": "execute_result",
          "data": {
            "text/plain": [
              "[0.01009655836969614, 0.9985253214836121]"
            ]
          },
          "metadata": {},
          "execution_count": 104
        }
      ]
    },
    {
      "cell_type": "code",
      "source": [
        "predictions = controlModel.predict(X_test)\n",
        "y_pred = np.argmax(predictions, axis=-1) # Take the highest likelihood and convert into our test"
      ],
      "metadata": {
        "colab": {
          "base_uri": "https://localhost:8080/"
        },
        "id": "sLnaviNBuLt7",
        "outputId": "505c3a96-700f-4827-b33f-89d0322aa451"
      },
      "execution_count": null,
      "outputs": [
        {
          "output_type": "stream",
          "name": "stdout",
          "text": [
            "891/891 [==============================] - 1s 2ms/step\n"
          ]
        }
      ]
    },
    {
      "cell_type": "code",
      "source": [
        "f1_score(y_pred, y_test)"
      ],
      "metadata": {
        "colab": {
          "base_uri": "https://localhost:8080/"
        },
        "id": "YJfG0y14uL2O",
        "outputId": "aef7b219-274d-41bb-dc42-cd24d2110133"
      },
      "execution_count": null,
      "outputs": [
        {
          "output_type": "execute_result",
          "data": {
            "text/plain": [
              "0.6612903225806451"
            ]
          },
          "metadata": {},
          "execution_count": 106
        }
      ]
    },
    {
      "cell_type": "code",
      "source": [
        "confusionMatrix = confusion_matrix(y_true=y_test, y_pred=y_pred)\n",
        "displayConfusionMatrix = ConfusionMatrixDisplay(confusionMatrix)\n",
        "displayConfusionMatrix.plot()"
      ],
      "metadata": {
        "id": "gZ6Wq8zSBevN",
        "colab": {
          "base_uri": "https://localhost:8080/",
          "height": 466
        },
        "outputId": "993be41c-2f64-4cf4-c4dd-5cc9491d8041"
      },
      "execution_count": null,
      "outputs": [
        {
          "output_type": "execute_result",
          "data": {
            "text/plain": [
              "<sklearn.metrics._plot.confusion_matrix.ConfusionMatrixDisplay at 0x7fa0ed597d00>"
            ]
          },
          "metadata": {},
          "execution_count": 107
        },
        {
          "output_type": "display_data",
          "data": {
            "text/plain": [
              "<Figure size 640x480 with 2 Axes>"
            ],
            "image/png": "[encoded data removed]"
          },
          "metadata": {}
        }
      ]
    },
    {
      "cell_type": "markdown",
      "source": [
        "<h1/>Control Model Results</h1>\n",
        "\n",
        "Our FNN achieved an F1 score of X. There were X false negatives and X false positives to achieve X true positives.\n",
        "</br></br>\n",
        "This would be \n",
        "\n",
        "<h1/>Tabular Transformer Model</h1>\n",
        "\n",
        "The next model will be a tabular transformer, and the goal is to beat the control model in every characteristic, but particularly XYZ "
      ],
      "metadata": {
        "id": "2VVhLnhsBgCP"
      }
    },
    {
      "cell_type": "code",
      "source": [
        "numericFeatures = list(df[df.columns.drop('Class')].columns.values)\n",
        "categoricalFeatures = []"
      ],
      "metadata": {
        "id": "zcpIoJzMGFcW"
      },
      "execution_count": null,
      "outputs": []
    },
    {
      "cell_type": "code",
      "source": [
        "trainDF = pd.DataFrame.join(X_train, y_train) # rejoining because module requires datasets which have y_train as a target rather than a separate array\n",
        "trainDF.columns = [column[0] if type(column) != str else column for column in trainDF.columns] # renaming columns because joining on the index causes the left side to convert to tuples containing the column name\n",
        "\n",
        "validDF = pd.DataFrame.join(X_valid, y_valid) # manually repeating the process\n",
        "validDF.columns = [column[0] if type(column) != str else column for column in trainDF.columns]\n",
        "\n",
        "testDF = pd.DataFrame.join(X_test, y_test)\n",
        "testDF.columns = [column[0] if type(column) != str else column for column in trainDF.columns]"
      ],
      "metadata": {
        "id": "T_Q3sXdhRgx8"
      },
      "execution_count": null,
      "outputs": []
    },
    {
      "cell_type": "code",
      "source": [
        "features = list(numericFeatures) + list(categoricalFeatures)\n",
        "label = 'Class'\n",
        "\n",
        "train_dataset = df_to_dataset(trainDF[features + [label]], label, shuffle=False, batch_size=8192) # batch size as large as possible before failure\n",
        "val_dataset = df_to_dataset(validDF[features + [label]], label, shuffle=False, batch_size=8192)\n",
        "test_dataset = df_to_dataset(testDF[features + [label]], shuffle=False, batch_size=8192)"
      ],
      "metadata": {
        "colab": {
          "base_uri": "https://localhost:8080/"
        },
        "id": "urVUw6SHjmHA",
        "outputId": "675c471a-ac81-4111-9189-afa5c1baaefc"
      },
      "execution_count": null,
      "outputs": [
        {
          "output_type": "stream",
          "name": "stderr",
          "text": [
            "/usr/local/lib/python3.9/dist-packages/tabtransformertf/utils/preprocessing.py:21: FutureWarning: Support for multi-dimensional indexing (e.g. `obj[:, None]`) is deprecated and will be removed in a future version.  Convert to a numpy array before indexing instead.\n",
            "  dataset[key] = value[:, tf.newaxis]\n",
            "/usr/local/lib/python3.9/dist-packages/tabtransformertf/utils/preprocessing.py:21: FutureWarning: Support for multi-dimensional indexing (e.g. `obj[:, None]`) is deprecated and will be removed in a future version.  Convert to a numpy array before indexing instead.\n",
            "  dataset[key] = value[:, tf.newaxis]\n",
            "/usr/local/lib/python3.9/dist-packages/tabtransformertf/utils/preprocessing.py:27: FutureWarning: Support for multi-dimensional indexing (e.g. `obj[:, None]`) is deprecated and will be removed in a future version.  Convert to a numpy array before indexing instead.\n",
            "  dataset[key] = value[:, tf.newaxis]\n"
          ]
        }
      ]
    },
    {
      "cell_type": "code",
      "source": [
        "FTencoder = FTTransformerEncoder(\n",
        "    numerical_features = numericFeatures,\n",
        "    categorical_features = categoricalFeatures,\n",
        "    numerical_data = trainDF[numericFeatures].values,\n",
        "    categorical_data = None,\n",
        "    y = y_train.values,\n",
        "    numerical_embedding_type='linear', # \n",
        "    embedding_dim=32,  # required to make this actually run\n",
        "    depth=2,\n",
        "    heads=15,\n",
        "    attn_dropout=0.1,\n",
        "    ff_dropout=0.1,\n",
        "    explainable=False\n",
        ")\n",
        "\n",
        "tabTransformerModel = FTTransformer(\n",
        "    encoder = FTencoder,\n",
        "    out_dim = 1,\n",
        "    out_activation = \"sigmoid\"\n",
        "\n",
        ")\n",
        "\n",
        "tabTransformerModel.compile(  # compile with same hyperparameters\n",
        "    optimizer=tf.keras.optimizers.Adam(learning_rate=0.02), \n",
        "    loss = tf.keras.losses.BinaryCrossentropy(), \n",
        "    metrics=['sparse_categorical_accuracy']\n",
        "    )"
      ],
      "metadata": {
        "id": "PHTKGzoUBfLS"
      },
      "execution_count": null,
      "outputs": []
    },
    {
      "cell_type": "code",
      "source": [
        "tabTransformerHistory = tabTransformerModel.fit(train_dataset, validation_data=val_dataset, epochs=5)"
      ],
      "metadata": {
        "colab": {
          "base_uri": "https://localhost:8080/"
        },
        "id": "KANrDDd03FgQ",
        "outputId": "e43fb931-5276-4663-ef24-7f3b40dbb977"
      },
      "execution_count": null,
      "outputs": [
        {
          "output_type": "stream",
          "name": "stdout",
          "text": [
            "Epoch 1/5\n",
            "25/25 [==============================] - 31s 639ms/step - loss: 0.3418 - sparse_categorical_accuracy: 0.7692 - val_loss: 7.2315 - val_sparse_categorical_accuracy: 0.9982\n",
            "Epoch 2/5\n",
            "25/25 [==============================] - 16s 630ms/step - loss: 0.9503 - sparse_categorical_accuracy: 0.7692 - val_loss: 1.5128 - val_sparse_categorical_accuracy: 0.9982\n",
            "Epoch 3/5\n",
            "25/25 [==============================] - 16s 636ms/step - loss: 1.1107 - sparse_categorical_accuracy: 0.7692 - val_loss: 0.5291 - val_sparse_categorical_accuracy: 0.9982\n",
            "Epoch 4/5\n",
            "25/25 [==============================] - 16s 637ms/step - loss: 0.7802 - sparse_categorical_accuracy: 0.7692 - val_loss: 0.4735 - val_sparse_categorical_accuracy: 0.9982\n",
            "Epoch 5/5\n",
            "25/25 [==============================] - 18s 707ms/step - loss: 0.6378 - sparse_categorical_accuracy: 0.7692 - val_loss: 0.3741 - val_sparse_categorical_accuracy: 0.9982\n"
          ]
        }
      ]
    },
    {
      "cell_type": "code",
      "source": [
        "pd.DataFrame(tabTransformerHistory.history)[['loss','val_loss']].plot(figsize=(8,5))"
      ],
      "metadata": {
        "colab": {
          "base_uri": "https://localhost:8080/",
          "height": 462
        },
        "id": "SFva5otjwN0C",
        "outputId": "4dcdab19-2d74-4a06-e244-6a22263172a0"
      },
      "execution_count": null,
      "outputs": [
        {
          "output_type": "execute_result",
          "data": {
            "text/plain": [
              "<Axes: >"
            ]
          },
          "metadata": {},
          "execution_count": 147
        },
        {
          "output_type": "display_data",
          "data": {
            "text/plain": [
              "<Figure size 800x500 with 1 Axes>"
            ],
            "image/png": "[encoded data removed]"
          },
          "metadata": {}
        }
      ]
    },
    {
      "cell_type": "code",
      "source": [
        "tabPredictions = tabTransformerModel.predict(test_dataset)"
      ],
      "metadata": {
        "colab": {
          "base_uri": "https://localhost:8080/"
        },
        "id": "0sKtHuOcfs_7",
        "outputId": "cf572001-af84-4b33-a2cf-ce11d46e43af"
      },
      "execution_count": null,
      "outputs": [
        {
          "output_type": "stream",
          "name": "stdout",
          "text": [
            "4/4 [==============================] - 2s 220ms/step\n"
          ]
        }
      ]
    },
    {
      "cell_type": "code",
      "source": [
        "tab_y_pred = [int(round(x[0])) for x in tabPredictions]"
      ],
      "metadata": {
        "id": "5Ljp1HjXs7ZH"
      },
      "execution_count": null,
      "outputs": []
    },
    {
      "cell_type": "code",
      "source": [
        "f1_score(tab_y_pred, y_test)"
      ],
      "metadata": {
        "colab": {
          "base_uri": "https://localhost:8080/"
        },
        "id": "raBC00i_HUub",
        "outputId": "a4c8dfd4-d4d6-4fe7-8cef-ad36f0e4deb5"
      },
      "execution_count": null,
      "outputs": [
        {
          "output_type": "execute_result",
          "data": {
            "text/plain": [
              "0.0"
            ]
          },
          "metadata": {},
          "execution_count": 150
        }
      ]
    },
    {
      "cell_type": "code",
      "source": [
        "confusionMatrix = confusion_matrix(y_true=y_test, y_pred=tab_y_pred)\n",
        "displayConfusionMatrix = ConfusionMatrixDisplay(confusionMatrix)\n",
        "displayConfusionMatrix.plot()"
      ],
      "metadata": {
        "colab": {
          "base_uri": "https://localhost:8080/",
          "height": 466
        },
        "id": "Mwbp4UiZHZPL",
        "outputId": "028d9861-cc8a-470a-da2d-41b8a38736ab"
      },
      "execution_count": null,
      "outputs": [
        {
          "output_type": "execute_result",
          "data": {
            "text/plain": [
              "<sklearn.metrics._plot.confusion_matrix.ConfusionMatrixDisplay at 0x7fa1ec2a2d60>"
            ]
          },
          "metadata": {},
          "execution_count": 151
        },
        {
          "output_type": "display_data",
          "data": {
            "text/plain": [
              "<Figure size 640x480 with 2 Axes>"
            ],
            "image/png": "[encoded data removed]"
          },
          "metadata": {}
        }
      ]
    },
    {
      "cell_type": "code",
      "source": [
        "FTencoder_2 = FTTransformerEncoder(\n",
        "    numerical_features = numericFeatures,\n",
        "    categorical_features = categoricalFeatures,\n",
        "    numerical_data = trainDF[numericFeatures].values,\n",
        "    categorical_data = None,\n",
        "    y = y_train.values,\n",
        "    numerical_embedding_type='linear', # \n",
        "    embedding_dim=32,  # required to make this actually run\n",
        "    depth=4,\n",
        "    heads=6,\n",
        "    attn_dropout=0.1,\n",
        "    ff_dropout=0.1,\n",
        "    explainable=False\n",
        ")\n",
        "\n",
        "tabTransformerModel_2 = FTTransformer(\n",
        "    encoder = FTencoder_2,\n",
        "    out_dim = 1,\n",
        "    out_activation = \"sigmoid\"\n",
        "\n",
        ")\n",
        "\n",
        "tabTransformerModel_2.compile(  # compile with same hyperparameters\n",
        "    optimizer=tf.keras.optimizers.Adam(learning_rate=0.02), \n",
        "    loss = tf.keras.losses.BinaryCrossentropy(), \n",
        "    metrics=['sparse_categorical_accuracy']\n",
        "    )"
      ],
      "metadata": {
        "id": "GW_ccQeXHvUU"
      },
      "execution_count": null,
      "outputs": []
    },
    {
      "cell_type": "code",
      "source": [
        "tabTransformerHistory_2 = tabTransformerModel_2.fit(train_dataset, validation_data=val_dataset, epochs=5)"
      ],
      "metadata": {
        "colab": {
          "base_uri": "https://localhost:8080/"
        },
        "id": "3mXJC4GvR6Dg",
        "outputId": "787b2600-53e8-46d8-8d33-9337f15b0e25"
      },
      "execution_count": null,
      "outputs": [
        {
          "output_type": "stream",
          "name": "stdout",
          "text": [
            "Epoch 1/5\n",
            "25/25 [==============================] - 43s 726ms/step - loss: 0.3849 - sparse_categorical_accuracy: 0.7692 - val_loss: 6.6419 - val_sparse_categorical_accuracy: 0.9982\n",
            "Epoch 2/5\n",
            "25/25 [==============================] - 17s 661ms/step - loss: 1.5940 - sparse_categorical_accuracy: 0.7692 - val_loss: 0.6779 - val_sparse_categorical_accuracy: 0.9982\n",
            "Epoch 3/5\n",
            "25/25 [==============================] - 15s 595ms/step - loss: 0.9827 - sparse_categorical_accuracy: 0.7692 - val_loss: 0.7164 - val_sparse_categorical_accuracy: 0.9982\n",
            "Epoch 4/5\n",
            "25/25 [==============================] - 15s 592ms/step - loss: 0.9282 - sparse_categorical_accuracy: 0.7692 - val_loss: 0.3992 - val_sparse_categorical_accuracy: 0.9982\n",
            "Epoch 5/5\n",
            "25/25 [==============================] - 20s 779ms/step - loss: 0.6604 - sparse_categorical_accuracy: 0.7692 - val_loss: 0.6219 - val_sparse_categorical_accuracy: 0.9982\n"
          ]
        }
      ]
    },
    {
      "cell_type": "code",
      "source": [
        "pd.DataFrame(tabTransformerHistory.history)[['loss','val_loss']].plot(figsize=(8,5))"
      ],
      "metadata": {
        "colab": {
          "base_uri": "https://localhost:8080/",
          "height": 462
        },
        "id": "piyPzzhFSBX3",
        "outputId": "820858e6-96fe-4236-fcb1-ec0472976590"
      },
      "execution_count": null,
      "outputs": [
        {
          "output_type": "execute_result",
          "data": {
            "text/plain": [
              "<Axes: >"
            ]
          },
          "metadata": {},
          "execution_count": 154
        },
        {
          "output_type": "display_data",
          "data": {
            "text/plain": [
              "<Figure size 800x500 with 1 Axes>"
            ],
            "image/png": "[encoded data removed]"
          },
          "metadata": {}
        }
      ]
    },
    {
      "cell_type": "code",
      "source": [
        "tabPredictions_2 = tabTransformerModel.predict(test_dataset)\n",
        "tab_y_pred_2 = [int(round(x[0])) for x in tabPredictions]\n",
        "\n",
        "f1_score(tab_y_pred_2, y_test)"
      ],
      "metadata": {
        "colab": {
          "base_uri": "https://localhost:8080/"
        },
        "id": "74vXfk23SDqF",
        "outputId": "24c45356-aaa8-4282-9efc-120e46b36593"
      },
      "execution_count": null,
      "outputs": [
        {
          "output_type": "stream",
          "name": "stdout",
          "text": [
            "4/4 [==============================] - 1s 222ms/step\n"
          ]
        },
        {
          "output_type": "execute_result",
          "data": {
            "text/plain": [
              "0.0"
            ]
          },
          "metadata": {},
          "execution_count": 155
        }
      ]
    },
    {
      "cell_type": "code",
      "source": [
        "confusionMatrix = confusion_matrix(y_true=y_test, y_pred=tab_y_pred_2)\n",
        "displayConfusionMatrix = ConfusionMatrixDisplay(confusionMatrix)\n",
        "displayConfusionMatrix.plot()"
      ],
      "metadata": {
        "colab": {
          "base_uri": "https://localhost:8080/",
          "height": 466
        },
        "id": "IxfpPDdYSENx",
        "outputId": "7ba3e77e-bce2-4366-fa2a-a0fa8b6a478d"
      },
      "execution_count": null,
      "outputs": [
        {
          "output_type": "execute_result",
          "data": {
            "text/plain": [
              "<sklearn.metrics._plot.confusion_matrix.ConfusionMatrixDisplay at 0x7fa1e02a1e80>"
            ]
          },
          "metadata": {},
          "execution_count": 156
        },
        {
          "output_type": "display_data",
          "data": {
            "text/plain": [
              "<Figure size 640x480 with 2 Axes>"
            ],
            "image/png": "[encoded data removed]"
          },
          "metadata": {}
        }
      ]
    },
    {
      "cell_type": "code",
      "source": [
        "periodicEncoder = FTTransformerEncoder(\n",
        "    numerical_features = numericFeatures,\n",
        "    categorical_features = categoricalFeatures,\n",
        "    numerical_data = trainDF[numericFeatures].values,\n",
        "    categorical_data = None,\n",
        "    y = y_train.values,\n",
        "    numerical_embedding_type='periodic',\n",
        "    numerical_bins=128,\n",
        "    embedding_dim=64,\n",
        "    depth=3,\n",
        "    heads=6,\n",
        "    attn_dropout=0.3,\n",
        "    ff_dropout=0.3,\n",
        "    explainable=False\n",
        ")\n",
        "\n",
        "# Pass th encoder to the model\n",
        "periodicTabTransformerModel = FTTransformer(\n",
        "    encoder=periodicEncoder,\n",
        "    out_dim=1,\n",
        "    out_activation=\"sigmoid\",\n",
        ")\n",
        "\n",
        "periodicTabTransformerModel.compile(  # compile with same hyperparameters\n",
        "    optimizer=tf.keras.optimizers.Adam(learning_rate=0.02), \n",
        "    loss = tf.keras.losses.BinaryCrossentropy(), \n",
        "    metrics=['sparse_categorical_accuracy']\n",
        "    )"
      ],
      "metadata": {
        "id": "WwrgT3HBUihI"
      },
      "execution_count": null,
      "outputs": []
    },
    {
      "cell_type": "code",
      "source": [
        "periodicTabTransformerHistory = periodicTabTransformerModel.fit(train_dataset, validation_data=val_dataset, epochs=5)"
      ],
      "metadata": {
        "colab": {
          "base_uri": "https://localhost:8080/"
        },
        "id": "rEv9C3feVOoQ",
        "outputId": "00b86c59-8e94-455a-c108-1218b94206d5"
      },
      "execution_count": null,
      "outputs": [
        {
          "output_type": "stream",
          "name": "stdout",
          "text": [
            "Epoch 1/5\n",
            "25/25 [==============================] - 38s 800ms/step - loss: 0.5477 - sparse_categorical_accuracy: 0.7692 - val_loss: 5.8600 - val_sparse_categorical_accuracy: 0.9982\n",
            "Epoch 2/5\n",
            "25/25 [==============================] - 20s 795ms/step - loss: 0.9955 - sparse_categorical_accuracy: 0.7692 - val_loss: 5.8347 - val_sparse_categorical_accuracy: 0.9982\n",
            "Epoch 3/5\n",
            "25/25 [==============================] - 20s 778ms/step - loss: 2.1197 - sparse_categorical_accuracy: 0.7692 - val_loss: 0.5983 - val_sparse_categorical_accuracy: 0.9982\n",
            "Epoch 4/5\n",
            "25/25 [==============================] - 19s 772ms/step - loss: 0.9028 - sparse_categorical_accuracy: 0.7692 - val_loss: 0.6067 - val_sparse_categorical_accuracy: 0.9982\n",
            "Epoch 5/5\n",
            "25/25 [==============================] - 21s 765ms/step - loss: 0.7189 - sparse_categorical_accuracy: 0.7692 - val_loss: 0.5157 - val_sparse_categorical_accuracy: 0.9982\n"
          ]
        }
      ]
    },
    {
      "cell_type": "code",
      "source": [
        "pd.DataFrame(periodicTabTransformerHistory.history)[['loss','val_loss']].plot(figsize=(8,5))"
      ],
      "metadata": {
        "colab": {
          "base_uri": "https://localhost:8080/",
          "height": 462
        },
        "id": "L58ffShkVoSF",
        "outputId": "938860f8-9092-4b07-a381-34bb89339d74"
      },
      "execution_count": null,
      "outputs": [
        {
          "output_type": "execute_result",
          "data": {
            "text/plain": [
              "<Axes: >"
            ]
          },
          "metadata": {},
          "execution_count": 171
        },
        {
          "output_type": "display_data",
          "data": {
            "text/plain": [
              "<Figure size 800x500 with 1 Axes>"
            ],
            "image/png": "[encoded data removed]"
          },
          "metadata": {}
        }
      ]
    },
    {
      "cell_type": "code",
      "source": [
        "periodicPredictions = periodicTabTransformerModel.predict(test_dataset)\n",
        "per_y_pred = [int(round(x[0])) for x in tabPredictions]\n",
        "\n",
        "f1_score(per_y_pred, y_test)"
      ],
      "metadata": {
        "colab": {
          "base_uri": "https://localhost:8080/"
        },
        "id": "48LSrccgVoW-",
        "outputId": "a1e08a65-babd-4274-8889-25b24871b17b"
      },
      "execution_count": null,
      "outputs": [
        {
          "output_type": "stream",
          "name": "stdout",
          "text": [
            "4/4 [==============================] - 2s 245ms/step\n"
          ]
        },
        {
          "output_type": "execute_result",
          "data": {
            "text/plain": [
              "0.0"
            ]
          },
          "metadata": {},
          "execution_count": 172
        }
      ]
    },
    {
      "cell_type": "code",
      "source": [
        "confusionMatrix = confusion_matrix(y_true=y_test, y_pred=per_y_pred)\n",
        "displayConfusionMatrix = ConfusionMatrixDisplay(confusionMatrix)\n",
        "displayConfusionMatrix.plot()"
      ],
      "metadata": {
        "colab": {
          "base_uri": "https://localhost:8080/",
          "height": 466
        },
        "id": "KTCAiExfVoav",
        "outputId": "fff4814f-be08-418a-a2e7-4b86967b3739"
      },
      "execution_count": null,
      "outputs": [
        {
          "output_type": "execute_result",
          "data": {
            "text/plain": [
              "<sklearn.metrics._plot.confusion_matrix.ConfusionMatrixDisplay at 0x7fa1ec1c4ca0>"
            ]
          },
          "metadata": {},
          "execution_count": 173
        },
        {
          "output_type": "display_data",
          "data": {
            "text/plain": [
              "<Figure size 640x480 with 2 Axes>"
            ],
            "image/png": "[encoded data removed]"
          },
          "metadata": {}
        }
      ]
    },
    {
      "cell_type": "code",
      "source": [],
      "metadata": {
        "id": "rppTSFN3Wk-7"
      },
      "execution_count": null,
      "outputs": []
    },
    {
      "cell_type": "markdown",
      "source": [
        "None of the transformer models have managed to detect the minority class. The baseline neural network functioned adequately, yet all the transformer models have the same problem: their output does not get altered by loss, they are effectively not learning. The FT-transformer, or feature-tokenizer transformer adds a CLS token. My hypothesis is that with so few fraud cases, they likely share few, if any common features. Additionally, there is not much data and training takes an exceptionally long time.\n",
        "\n",
        "The likely cause of this is nature of the dataset. While the features are anonymized, there is a good chance they're completely unrelated. The result is that the model is treating each vector as a sentence when what it needs to look for is an aberrant \"word\". "
      ],
      "metadata": {
        "id": "74SVuv4D9Diw"
      }
    }
  ]
}